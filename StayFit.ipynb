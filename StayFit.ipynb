{
  "nbformat": 4,
  "nbformat_minor": 0,
  "metadata": {
    "colab": {
      "provenance": []
    },
    "kernelspec": {
      "name": "python3",
      "display_name": "Python 3"
    },
    "language_info": {
      "name": "python"
    }
  },
  "cells": [
    {
      "cell_type": "code",
      "execution_count": 1,
      "metadata": {
        "colab": {
          "base_uri": "https://localhost:8080/"
        },
        "id": "dur00OffbMYy",
        "outputId": "6d0f1ca6-4632-4f01-932e-5634a8d3170b"
      },
      "outputs": [
        {
          "output_type": "stream",
          "name": "stdout",
          "text": [
            "Enter your age: 22\n",
            "Enter your weight (in pounds): 40\n",
            "Enter your height (in inches): 19\n",
            "Enter your sex (M/F): M\n",
            "Enter your activity level (1-5): 3\n",
            "Recommended caloric intake:  630.6949999999999\n",
            "Recommended carbohydrate intake (in grams):  70.9531875\n",
            "Recommended fat intake (in grams):  17.519305555555555\n",
            "Recommended protein intake (in grams):  47.302125\n"
          ]
        }
      ],
      "source": [
        "# User input\n",
        "age = int(input(\"Enter your age: \"))\n",
        "weight = int(input(\"Enter your weight (in pounds): \"))\n",
        "height = int(input(\"Enter your height (in inches): \"))\n",
        "sex = input(\"Enter your sex (M/F): \")\n",
        "activity_level = int(input(\"Enter your activity level (1-5): \"))\n",
        "\n",
        "# Caloric intake calculation\n",
        "if sex == 'M':\n",
        "    BMR = 66 + (6.23 * weight) + (12.7 * height) - (6.8 * age)\n",
        "elif sex == 'F':\n",
        "    BMR = 655 + (4.35 * weight) + (4.7 * height) - (4.7 * age)\n",
        "\n",
        "if activity_level == 1:\n",
        "    TDEE = BMR * 1.2\n",
        "elif activity_level == 2:\n",
        "    TDEE = BMR * 1.375\n",
        "elif activity_level == 3:\n",
        "    TDEE = BMR * 1.55\n",
        "elif activity_level == 4:\n",
        "    TDEE = BMR * 1.725\n",
        "elif activity_level == 5:\n",
        "    TDEE = BMR * 1.9\n",
        "\n",
        "# Nutritional intake calculation\n",
        "carb_intake = TDEE * 0.45 / 4\n",
        "fat_intake = TDEE * 0.25 / 9\n",
        "protein_intake = TDEE * 0.3 / 4\n",
        "\n",
        "# Results\n",
        "print(\"Recommended caloric intake: \", TDEE)\n",
        "print(\"Recommended carbohydrate intake (in grams): \", carb_intake)\n",
        "print(\"Recommended fat intake (in grams): \", fat_intake)\n",
        "print(\"Recommended protein intake (in grams): \", protein_intake)\n"
      ]
    }
  ]
}